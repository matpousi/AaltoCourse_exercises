{
 "cells": [
  {
   "cell_type": "markdown",
   "metadata": {},
   "source": [
    "# Task 1.1 Computing polynomials\n",
    "\n",
    "1. Copy the code from the lecture to create a function with an additional parameter `algorithm`: if \"fast\" is passed the function should perform fast polynomial computation\n",
    "\n",
    "2. Time the two algorithms using the following *magic* commands in a separate cell\n",
    "\n",
    "```python\n",
    "@@timeit <options> <setup command>\n",
    "all lines of code in the cell\n",
    "to be timed together\n",
    "```\n",
    "\n",
    "3. How can you make the difference between the two algorithm larger?"
   ]
  },
  {
   "cell_type": "markdown",
   "metadata": {
    "slideshow": {
     "slide_type": "slide"
    }
   },
   "source": [
    "#### Background on timing function evaluation\n",
    "\n",
    "Several ways to measure run time in python\n",
    "\n",
    "- **time** module  \n",
    "- **timeit** module (for small snippets)  \n",
    "- profiles (**profile** and **cProfile**, for large codes)  \n",
    "\n",
    "In Jupyter Notebooks we can use a **magic function** `timeit` to time separate line or the whole jupyter notebook cell\n",
    "\n",
    "```python\n",
    "@timeit <options> <line of code to be timed>\n",
    "```\n",
    "\n",
    "```python\n",
    "@@timeit <options> <setup command>\n",
    "# all lines of code in the cell\n",
    "# to be timed together\n",
    "```\n",
    "\n",
    "[See here documentation on @timeit](https://ipython.readthedocs.io/en/stable/interactive/magics.html?highlight=timeit#magic-timeit)"
   ]
  },
  {
   "cell_type": "code",
   "execution_count": 25,
   "metadata": {},
   "outputs": [],
   "source": [
    "def calc_polynomial(qs=[0.,], x=0.0, algorithm='fast'):\n",
    "  '''Evaluates the polynomial given by coefficients qs at given x.\n",
    "  First coefficient qs[0] is a constant, last coefficient is for highest power.\n",
    "  '''\n",
    "  # Your code here"
   ]
  },
  {
   "cell_type": "code",
   "execution_count": 26,
   "metadata": {
    "hide-output": false,
    "slideshow": {
     "slide_type": "slide"
    },
    "tags": [
     "solution"
    ]
   },
   "outputs": [],
   "source": [
    "def calc_polynomial(qs=[0.,], x=0.0, algorithm='fast'):\n",
    "  '''Evaluates the polynomial given by coefficients qs at given x.\n",
    "  First coefficient qs[0] is a constant, last coefficient is for highest power.\n",
    "  '''\n",
    "  if algorithm != 'fast':\n",
    "    # slower algorithm\n",
    "    res = 0.0\n",
    "    for k in range(len(qs)):\n",
    "      xpw = x**k\n",
    "      res += qs[k] * xpw\n",
    "  else:\n",
    "    # faster algorithm\n",
    "    res, xpw = qs[0], x           # init result and power of x\n",
    "    for i in range(1, len(qs)):   # start with second coefficient\n",
    "      res += xpw * qs[i]\n",
    "      xpw *= x\n",
    "  return res"
   ]
  },
  {
   "cell_type": "code",
   "execution_count": 27,
   "metadata": {
    "hide-output": false,
    "slideshow": {
     "slide_type": "slide"
    }
   },
   "outputs": [
    {
     "name": "stdout",
     "output_type": "stream",
     "text": [
      "11.6 μs ± 5.31 μs per loop (mean ± std. dev. of 100 runs, 100 loops each)\n"
     ]
    }
   ],
   "source": [
    "%%timeit -n100 -r100 qs = [1,]*50\n",
    "calc_polynomial(qs,15,'slow')"
   ]
  },
  {
   "cell_type": "code",
   "execution_count": 28,
   "metadata": {
    "hide-output": false,
    "slideshow": {
     "slide_type": "fragment"
    }
   },
   "outputs": [
    {
     "name": "stdout",
     "output_type": "stream",
     "text": [
      "3.84 μs ± 346 ns per loop (mean ± std. dev. of 100 runs, 100 loops each)\n"
     ]
    }
   ],
   "source": [
    "%%timeit -n100 -r100 qs = [1,]*50\n",
    "calc_polynomial(qs,15,'fast')"
   ]
  },
  {
   "cell_type": "markdown",
   "metadata": {},
   "source": [
    "- 1 μs = micro sec = 1e-6 sec\n",
    "- 1 ns = nano sec = 1e-9 sec"
   ]
  }
 ],
 "metadata": {
  "celltoolbar": "Slideshow",
  "date": 1612589584.605089,
  "download_nb": false,
  "filename": "09_algorithms.rst",
  "filename_with_path": "09_algorithms",
  "kernelspec": {
   "display_name": "base",
   "language": "python",
   "name": "python3"
  },
  "language_info": {
   "codemirror_mode": {
    "name": "ipython",
    "version": 3
   },
   "file_extension": ".py",
   "mimetype": "text/x-python",
   "name": "python",
   "nbconvert_exporter": "python",
   "pygments_lexer": "ipython3",
   "version": "3.12.2"
  },
  "title": "Foundations of Computational Economics #9"
 },
 "nbformat": 4,
 "nbformat_minor": 4
}
