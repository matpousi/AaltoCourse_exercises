{
 "cells": [
  {
   "cell_type": "markdown",
   "metadata": {
    "slideshow": {
     "slide_type": "slide"
    }
   },
   "source": [
    "# Task 1.3 Bisections method\n",
    "\n",
    "1. Implement the bisection method for finding roots of a continuous function\n",
    "2. Run the example to demonstrate the work of the algorithm\n",
    "3. Using the callback feature, display the relative errors on each iteration"
   ]
  },
  {
   "cell_type": "code",
   "execution_count": null,
   "metadata": {
    "hide-output": false,
    "slideshow": {
     "slide_type": "slide"
    }
   },
   "outputs": [],
   "source": [
    "def bisection(f, a=0, b=1, tol=1e-6, maxiter=100, callback=None):\n",
    "  '''Bisection method for solving equation f(x)=0\n",
    "  on the interval [a,b], with given tolerance and number of iterations.\n",
    "  Callback function is invoked at each iteration if given.\n",
    "  '''\n",
    "  pass        # your code here\n",
    "  # somewhere inside the cycle you should have:\n",
    "  # if callback != None: callback(err=err,x=x,iter=i)"
   ]
  },
  {
   "cell_type": "code",
   "execution_count": 2,
   "metadata": {
    "hide-output": false,
    "slideshow": {
     "slide_type": "slide"
    },
    "tags": [
     "solution"
    ]
   },
   "outputs": [],
   "source": [
    "def bisection(f,a=0,b=1,tol=1e-6,maxiter=100,callback=None):\n",
    "    '''Bisection method for solving equation f(x)=0\n",
    "    on the interval [a,b], with given tolerance and number of iterations.\n",
    "    Callback function is invoked at each iteration if given.\n",
    "    '''\n",
    "    if f(a)*f(b)>0:\n",
    "        raise ValueError('Function has the same sign at the bounds')\n",
    "    for i in range(maxiter):\n",
    "        err = abs(b-a)\n",
    "        if err<tol: break\n",
    "        x = (a+b)/2\n",
    "        a,b = (x,b) if f(a)*f(x)>0 else (a,x)\n",
    "        if callback != None: callback(err=err,x=x,iter=i)\n",
    "    else:\n",
    "        raise RuntimeError('Failed to converge in %d iterations'%maxiter)\n",
    "    return x"
   ]
  },
  {
   "cell_type": "code",
   "execution_count": 3,
   "metadata": {
    "hide-output": false,
    "slideshow": {
     "slide_type": "slide"
    }
   },
   "outputs": [
    {
     "name": "stdout",
     "output_type": "stream",
     "text": [
      "Solution is x=-1.000, f(x)=0.000000834465\n"
     ]
    }
   ],
   "source": [
    "f = lambda x: -4*x**3+5*x+1\n",
    "a,b = -3,-.5  # upper and lower limits\n",
    "x = bisection(f,a,b)\n",
    "print('Solution is x=%1.3f, f(x)=%1.12f' % (x,f(x)))"
   ]
  },
  {
   "cell_type": "markdown",
   "metadata": {
    "slideshow": {
     "slide_type": "slide"
    }
   },
   "source": [
    "## Rate of convergence\n",
    "\n",
    "- How fast does a solution method converge on the root of the equation?  \n",
    "- Rate of convergence = the rate of decrease of the bias (difference between current guess and the solution)  \n",
    "- Can be approximated by the rate of decrease of the error in the stopping criterion  "
   ]
  },
  {
   "cell_type": "code",
   "execution_count": 4,
   "metadata": {
    "hide-output": false,
    "slideshow": {
     "slide_type": "slide"
    }
   },
   "outputs": [
    {
     "name": "stdout",
     "output_type": "stream",
     "text": [
      "Bisection method\n",
      "   0:  x = -1.75000000000000  err = 2.500000e+00\n",
      "   1:  x = -1.12500000000000  err = 1.250000e+00\n",
      "   2:  x = -0.81250000000000  err = 6.250000e-01\n",
      "   3:  x = -0.96875000000000  err = 3.125000e-01\n",
      "   4:  x = -1.04687500000000  err = 1.562500e-01\n",
      "   5:  x = -1.00781250000000  err = 7.812500e-02\n",
      "   6:  x = -0.98828125000000  err = 3.906250e-02\n",
      "   7:  x = -0.99804687500000  err = 1.953125e-02\n",
      "   8:  x = -1.00292968750000  err = 9.765625e-03\n",
      "   9:  x = -1.00048828125000  err = 4.882812e-03\n",
      "  10:  x = -0.99926757812500  err = 2.441406e-03\n",
      "  11:  x = -0.99987792968750  err = 1.220703e-03\n",
      "  12:  x = -1.00018310546875  err = 6.103516e-04\n",
      "  13:  x = -1.00003051757812  err = 3.051758e-04\n",
      "  14:  x = -0.99995422363281  err = 1.525879e-04\n",
      "  15:  x = -0.99999237060547  err = 7.629395e-05\n",
      "  16:  x = -1.00001144409180  err = 3.814697e-05\n",
      "  17:  x = -1.00000190734863  err = 1.907349e-05\n",
      "  18:  x = -0.99999713897705  err = 9.536743e-06\n",
      "  19:  x = -0.99999952316284  err = 4.768372e-06\n",
      "  20:  x = -1.00000071525574  err = 2.384186e-06\n",
      "  21:  x = -1.00000011920929  err = 1.192093e-06\n",
      "  22:  x = -0.99999982118607  err = 5.960464e-07\n",
      "  23:  x = -0.99999997019768  err = 2.980232e-07\n",
      "  24:  x = -1.00000004470348  err = 1.490116e-07\n",
      "  25:  x = -1.00000000745058  err = 7.450581e-08\n",
      "  26:  x = -0.99999998882413  err = 3.725290e-08\n",
      "  27:  x = -0.99999999813735  err = 1.862645e-08\n",
      "  28:  x = -1.00000000279397  err = 9.313226e-09\n",
      "  29:  x = -1.00000000046566  err = 4.656613e-09\n",
      "  30:  x = -0.99999999930151  err = 2.328306e-09\n",
      "  31:  x = -0.99999999988358  err = 1.164153e-09\n",
      "  32:  x = -1.00000000017462  err = 5.820766e-10\n",
      "  33:  x = -1.00000000002910  err = 2.910383e-10\n",
      "  34:  x = -0.99999999995634  err = 1.455192e-10\n"
     ]
    },
    {
     "data": {
      "text/plain": [
       "-0.9999999999563443"
      ]
     },
     "execution_count": 4,
     "metadata": {},
     "output_type": "execute_result"
    }
   ],
   "source": [
    "def print_err(iter,err,**kwargs):\n",
    "    x = kwargs['x'] if 'x' in kwargs.keys() else kwargs['x0']\n",
    "    print('{:4d}:  x = {:17.14f}  err = {:8.6e}'.format(iter,x,err))\n",
    "\n",
    "print('Bisection method')\n",
    "bisection(f,a=-3,b=-0.5,callback=print_err,tol=1e-10)"
   ]
  }
 ],
 "metadata": {
  "celltoolbar": "Slideshow",
  "date": 1612589584.717071,
  "download_nb": false,
  "filename": "13_bisections_newton.rst",
  "filename_with_path": "13_bisections_newton",
  "kernelspec": {
   "display_name": "base",
   "language": "python",
   "name": "python3"
  },
  "language_info": {
   "codemirror_mode": {
    "name": "ipython",
    "version": 3
   },
   "file_extension": ".py",
   "mimetype": "text/x-python",
   "name": "python",
   "nbconvert_exporter": "python",
   "pygments_lexer": "ipython3",
   "version": "3.12.2"
  },
  "title": "Foundations of Computational Economics #13"
 },
 "nbformat": 4,
 "nbformat_minor": 4
}
