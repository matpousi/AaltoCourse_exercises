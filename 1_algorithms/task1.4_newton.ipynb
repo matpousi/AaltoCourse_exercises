{
 "cells": [
  {
   "cell_type": "markdown",
   "id": "359a7deb",
   "metadata": {},
   "source": [
    "# Task 1.3 Newton-Raphson method\n",
    "\n",
    "1. Implement the Newton-Raphson method for finding roots of a continuous function\n",
    "2. Run the example to demonstrate the work of the algorithm\n",
    "3. Using the callback feature, display the relative errors on each iteration\n",
    "4. Compare convergence rate to the bisection method"
   ]
  },
  {
   "cell_type": "code",
   "execution_count": null,
   "id": "5233441b",
   "metadata": {},
   "outputs": [],
   "source": [
    "def newton(fun, grad, x0, tol=1e-6, maxiter=100, callback=None):\n",
    "  '''Newton method for solving equation f(x)=0\n",
    "    with given tolerance and number of iterations.\n",
    "    Callback function is invoked at each iteration if given.\n",
    "    '''\n",
    "  pass        # your code here\n",
    "  # somewhere inside the cycle you should have\n",
    "  # if callback != None: callback(err=err,x0=x0,x1=x1,iter=i)"
   ]
  },
  {
   "cell_type": "code",
   "execution_count": 2,
   "id": "c973c1e7",
   "metadata": {
    "tags": [
     "solution"
    ]
   },
   "outputs": [],
   "source": [
    "def newton(fun,grad,x0,tol=1e-6,maxiter=100,callback=None):\n",
    "    '''Newton method for solving equation f(x)=0\n",
    "    with given tolerance and number of iterations.\n",
    "    Callback function is invoked at each iteration if given.\n",
    "    '''\n",
    "    for i in range(maxiter):\n",
    "        x1 = x0 - fun(x0)/grad(x0)\n",
    "        err = abs(x1-x0)\n",
    "        if callback != None: callback(err=err,x0=x0,x1=x1,iter=i)\n",
    "        if err<tol: break\n",
    "        x0 = x1\n",
    "    else:\n",
    "        raise RuntimeError('Failed to converge in %d iterations'%maxiter)\n",
    "    return (x0+x1)/2"
   ]
  },
  {
   "cell_type": "code",
   "execution_count": 3,
   "id": "58ae1013",
   "metadata": {},
   "outputs": [
    {
     "name": "stdout",
     "output_type": "stream",
     "text": [
      "Solution is x=-1.000, f(x)=0.000000490965\n"
     ]
    }
   ],
   "source": [
    "f = lambda x: -4*x**3+5*x+1\n",
    "g = lambda x: -12*x**2+5\n",
    "x = newton(f,g,x0=-2.5,maxiter=7)\n",
    "print('Solution is x=%1.3f, f(x)=%1.12f' % (x,f(x)))"
   ]
  },
  {
   "cell_type": "markdown",
   "id": "ff20bb33",
   "metadata": {},
   "source": [
    "## Rate of convergence\n",
    "\n",
    "- How fast does a solution method converge on the root of the equation?  \n",
    "- Rate of convergence = the rate of decrease of the bias (difference between current guess and the solution)  \n",
    "- Can be approximated by the rate of decrease of the error in the stopping criterion  "
   ]
  },
  {
   "cell_type": "code",
   "execution_count": 4,
   "id": "86823b18",
   "metadata": {},
   "outputs": [
    {
     "name": "stdout",
     "output_type": "stream",
     "text": [
      "Newton method\n",
      "   0:  x = -2.50000000000000  err = 7.285714e-01\n",
      "   1:  x = -1.77142857142857  err = 4.402791e-01\n",
      "   2:  x = -1.33114944950557  err = 2.323743e-01\n",
      "   3:  x = -1.09877514383983  err = 8.562251e-02\n",
      "   4:  x = -1.01315263007170  err = 1.286646e-02\n",
      "   5:  x = -1.00028616796687  err = 2.860277e-04\n",
      "   6:  x = -1.00000014027560  err = 1.402756e-07\n",
      "   7:  x = -1.00000000000003  err = 3.375078e-14\n"
     ]
    },
    {
     "data": {
      "text/plain": [
       "-1.0000000000000169"
      ]
     },
     "execution_count": 4,
     "metadata": {},
     "output_type": "execute_result"
    }
   ],
   "source": [
    "def print_err(iter,err,**kwargs):\n",
    "    x = kwargs['x'] if 'x' in kwargs.keys() else kwargs['x0']\n",
    "    print('{:4d}:  x = {:17.14f}  err = {:8.6e}'.format(iter,x,err))\n",
    "\n",
    "print('Newton method')\n",
    "newton(f,g,x0=-2.5,callback=print_err,tol=1e-10)"
   ]
  }
 ],
 "metadata": {
  "kernelspec": {
   "display_name": "base",
   "language": "python",
   "name": "python3"
  },
  "language_info": {
   "codemirror_mode": {
    "name": "ipython",
    "version": 3
   },
   "file_extension": ".py",
   "mimetype": "text/x-python",
   "name": "python",
   "nbconvert_exporter": "python",
   "pygments_lexer": "ipython3",
   "version": "3.12.2"
  }
 },
 "nbformat": 4,
 "nbformat_minor": 5
}
