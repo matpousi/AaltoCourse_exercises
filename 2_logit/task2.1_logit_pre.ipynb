{
 "cells": [
  {
   "cell_type": "markdown",
   "metadata": {},
   "source": [
    "# Task 2.1 Static logit + model code design\n",
    "\n",
    "Here we build a codebase that would be typical in working with any structural model using static RUM model as an testbed example:\n",
    "\n",
    "1. Model definition object and \"model parts\"\n",
    "2. Solver\n",
    "3. Simulator\n",
    "4. Graphical module\n",
    "5. Estimator (not today)\n",
    "6. Counter factual simulator (not today)\n",
    "\n",
    "A good way to modularize the code is to separate the main components of the model in classes and functions from the *run* scripts that call these functions to do stuff.\n",
    "\n",
    "**Model specification**\n",
    "\n",
    "Consider two specifications of static RUM model with EV1 random terms:\n",
    "1. Linear utility of the form $u(d,x)=Y^d \\beta^x$ where $Y^d$ is the vector of attributes of alternative $d$ and $\\beta^x$ is the vector of structural parameters associated with the state (of the decision maker) $x$.  Let $x \\in \\{1,2\\}$ and $\\beta^1 = \\beta$, $\\beta^2 = \\beta/2$ with $\\beta$ the vector of structural parameters\n",
    "2. Non-linear utility of the form $u(d,x)=\\ln(Y^d) \\beta^x$ with the same specification for $\\beta^x$\n",
    "\n",
    "**Coding tasks**:\n",
    "1. Develop the model class to hold the parameters of the model, test its functionality\n",
    "2. Write the solver of the model, make sure the logit is demaxed\n",
    "3. Write graphical routine to show model solution\n",
    "  - bar plot showing choice probabilities for each value of the state\n",
    "4. Write the simulator of the model (to simulate a given N number of decision makers)\n",
    "5. Write graphical routine to show simulated data from the model\n",
    "  - bar plot showing histogram of simulated choices for each value of the state\n",
    "6. Create dashboard to visualize model attributes, solution and simulations\n",
    "  - alternative attributes\n",
    "  - structural coefficients\n",
    "  - choice probabilities (solution) by state\n",
    "  - histograms of simulated choices by state\n",
    "\n",
    "**Model understanding tasks**:\n",
    "1. Explore the role of each $\\beta$ parameter of the linear model using dashboard\n",
    "2. Explore the role of $\\sigma$ parameter of the model using dashboard\n",
    "3. Explore the difference between predicted and simulated behavior\n",
    "4. Is it possible to find parameter values such that all simulated choices concentrate on one alternative?\n",
    "5. Is it possible to mimic the behavior of decision maker is state $x=1$ using state $x=2$ and a different set of parameters?\n",
    "6. Do answers to the above questions change in the non-linear model?\n",
    "\n",
    "Tip: use of previous examples and AI assistance speeds up work 😉"
   ]
  },
  {
   "cell_type": "code",
   "execution_count": 10,
   "metadata": {},
   "outputs": [],
   "source": [
    "# Class to store model parameters\n",
    "import numpy as np\n",
    "\n",
    "class model:\n",
    "  '''Class to hold RUM model specifications'''\n",
    "\n",
    "  def __init__(\n",
    "      self,\n",
    "      label='noname',\n",
    "      nalt=1,           # number of alternatives\n",
    "      nattr=1,          # number of attributes for each alternative\n",
    "      attr=[],          # values of alternative attributes (Y)\n",
    "      param=[],         # structural parameters of the model (beta)\n",
    "      st=[],            # state of the decision maker (X)\n",
    "      sigma=1.0):\n",
    "    '''Create model with default parameters'''\n",
    "                        # store parameters in the mode object\n",
    "\n",
    "  def __str__(self):\n",
    "    '''String representation of the model'''\n",
    "    # Human readable representation of the model\n",
    "    return 'Human readable representation of the model'\n",
    "\n",
    "  def __setattr__(self, attr: str, value):\n",
    "    '''Check consistency of the class attributes'''\n",
    "    pass\n",
    "\n",
    "  # Model parts\n",
    "  def utility():\n",
    "    '''Specification of the deterministic component of utility'''\n",
    "    pass\n",
    "\n",
    "  def save_chpr(selt):\n",
    "    '''Stores computed choice probabilities (solution) in the model object'''\n",
    "\n",
    "def model_solve(m: model):\n",
    "  '''Solver for the the model, returns optimal choice probabilities'''\n",
    "  # Store the solution as part of model object\n",
    "  pass\n",
    "\n",
    "def model_simulate(m: model):\n",
    "  '''Simulator for the the model, returns simulated data'''\n",
    "  pass\n"
   ]
  },
  {
   "cell_type": "code",
   "execution_count": 11,
   "metadata": {},
   "outputs": [],
   "source": [
    "def plot_choice_probabilities(m: model):\n",
    "  '''Plot choice probabilities for the model'''\n",
    "  pass\n",
    "\n",
    "def plot_simulated_data(m: model):\n",
    "  '''Plot simulated data from the model'''\n",
    "  pass\n",
    "\n",
    "def plot_dashboard(m:model):\n",
    "  '''Create dashboard for model visualization'''\n",
    "  pass"
   ]
  },
  {
   "cell_type": "code",
   "execution_count": 12,
   "metadata": {},
   "outputs": [
    {
     "ename": "TypeError",
     "evalue": "model.__init__() got an unexpected keyword argument 'x'",
     "output_type": "error",
     "traceback": [
      "\u001b[0;31m---------------------------------------------------------------------------\u001b[0m",
      "\u001b[0;31mTypeError\u001b[0m                                 Traceback (most recent call last)",
      "Cell \u001b[0;32mIn[12], line 4\u001b[0m\n\u001b[1;32m      1\u001b[0m \u001b[38;5;66;03m# run script to call model functions\u001b[39;00m\n\u001b[1;32m      3\u001b[0m m1 \u001b[38;5;241m=\u001b[39m model() \u001b[38;5;66;03m# default parameters\u001b[39;00m\n\u001b[0;32m----> 4\u001b[0m m2 \u001b[38;5;241m=\u001b[39m model(x\u001b[38;5;241m=\u001b[39m[\u001b[38;5;241m1.2\u001b[39m, \u001b[38;5;241m3.4\u001b[39m])\n\u001b[1;32m      5\u001b[0m m1\u001b[38;5;241m.\u001b[39mnattr \u001b[38;5;241m=\u001b[39m \u001b[38;5;241m3\u001b[39m\n\u001b[1;32m      7\u001b[0m \u001b[38;5;28mprint\u001b[39m(m1,m2,sep\u001b[38;5;241m=\u001b[39m\u001b[38;5;124m'\u001b[39m\u001b[38;5;130;01m\\n\u001b[39;00m\u001b[38;5;124m'\u001b[39m)\n",
      "\u001b[0;31mTypeError\u001b[0m: model.__init__() got an unexpected keyword argument 'x'"
     ]
    }
   ],
   "source": [
    "# run script to call model functions\n",
    "\n",
    "m1 = model() # default parameters\n",
    "m2 = model(x=[1.2, 3.4])\n",
    "m1.nattr = 3\n",
    "\n",
    "print(m1,m2,sep='\\n')\n",
    "print(m1.label)\n"
   ]
  },
  {
   "cell_type": "code",
   "execution_count": null,
   "metadata": {},
   "outputs": [],
   "source": []
  }
 ],
 "metadata": {
  "celltoolbar": "Slideshow",
  "date": 1612589584.605089,
  "download_nb": false,
  "filename": "09_algorithms.rst",
  "filename_with_path": "09_algorithms",
  "kernelspec": {
   "display_name": "base",
   "language": "python",
   "name": "python3"
  },
  "language_info": {
   "codemirror_mode": {
    "name": "ipython",
    "version": 3
   },
   "file_extension": ".py",
   "mimetype": "text/x-python",
   "name": "python",
   "nbconvert_exporter": "python",
   "pygments_lexer": "ipython3",
   "version": "3.12.2"
  },
  "title": "Foundations of Computational Economics #9"
 },
 "nbformat": 4,
 "nbformat_minor": 4
}
